{
 "cells": [
  {
   "cell_type": "code",
   "execution_count": 6,
   "metadata": {},
   "outputs": [
    {
     "ename": "AttributeError",
     "evalue": "'Train' object has no attribute 'GetSeats'",
     "output_type": "error",
     "traceback": [
      "\u001b[1;31m---------------------------------------------------------------------------\u001b[0m",
      "\u001b[1;31mAttributeError\u001b[0m                            Traceback (most recent call last)",
      "Cell \u001b[1;32mIn[6], line 36\u001b[0m\n\u001b[0;32m     34\u001b[0m         \u001b[38;5;28;01mreturn\u001b[39;00m Txt\n\u001b[0;32m     35\u001b[0m test \u001b[38;5;241m=\u001b[39m Train (P\u001b[38;5;241m=\u001b[39m\u001b[38;5;124m'\u001b[39m\u001b[38;5;124mPavadinimas\u001b[39m\u001b[38;5;124m'\u001b[39m, R\u001b[38;5;241m=\u001b[39m \u001b[38;5;241m5000\u001b[39m, S \u001b[38;5;241m=\u001b[39m \u001b[38;5;241m100\u001b[39m)\n\u001b[1;32m---> 36\u001b[0m \u001b[38;5;28mprint\u001b[39m(\u001b[43mtest\u001b[49m\u001b[38;5;241;43m.\u001b[39;49m\u001b[43mGetSeats\u001b[49m())\n",
      "\u001b[1;31mAttributeError\u001b[0m: 'Train' object has no attribute 'GetSeats'"
     ]
    }
   ],
   "source": [
    "#su paveldėjimu:\n",
    "# Sukurkite klasę Vehicle su tokiais atributais - Pavadinimas, Rida\n",
    "#Sukurkite išvestines klases Car, Bus, Train,\n",
    "# kurie paveldėtų viską iš Vehicle, ir papildomai būtų galima\n",
    "# nurodyti Seats - sėdimų vietų skaičių, ir visi \n",
    "# turėtų metoda GetSeats() grąžinantį tekstą:\n",
    "# <Pavadinimas> turi <Seats> sėdimų vietų.\n",
    "class Vehicle():\n",
    "    def __init__ (self, P, R):\n",
    "        self.P = P\n",
    "        self.R = R\n",
    "\n",
    "class Car(Vehicle):\n",
    "    def __init__ (self, P, R, S):\n",
    "        super().__init__(P, R) \n",
    "        self.S = S   \n",
    "    def getSeats(self):\n",
    "        Txt = self.P + \"turi\" + str(self.S) + \"sėdimų vietų\"\n",
    "        return Txt\n",
    "\n",
    "class Bus(Vehicle):\n",
    "    def __init__ (self, P, R, S):\n",
    "        super().__init__(P, R) \n",
    "        self.S = S   \n",
    "    def getSeats(self):\n",
    "        Txt = self.P + \"turi\" + str(self.S) + \"sėdimų vietų\"\n",
    "        return Txt\n",
    "class Train(Vehicle):\n",
    "    def __init__ (self, P, R, S):\n",
    "        super().__init__(P, R) \n",
    "        self.S = S   \n",
    "    def getSeats(self):\n",
    "        Txt = self.P + \"turi\" + str(self.S) + \"sėdimų vietų\"\n",
    "        return Txt\n",
    "test = Train (P='Pavadinimas', R= 5000, S = 100)\n",
    "print(test.GetSeats())"
   ]
  },
  {
   "cell_type": "code",
   "execution_count": 7,
   "metadata": {},
   "outputs": [
    {
     "name": "stdout",
     "output_type": "stream",
     "text": [
      "pavadinimas turi 4 sedimu vietu\n",
      "pavadinimasturi 4 sedimu vietu \n",
      "pavadinimasturi 4 sedimu vietu\n"
     ]
    }
   ],
   "source": [
    "# Remigijaus sprendimas\n",
    "class Vehicle():\n",
    "    def __init__(self, P, R):\n",
    "        self.P = P\n",
    "        self.R = R\n",
    "class Car(Vehicle):\n",
    "    def __init__(self, P, R, S):\n",
    "       super().__init__(P, R)\n",
    "       self.S = S\n",
    "    \n",
    "    def GetSeats(self):\n",
    "        Txt = self.P + \" turi \" + str(self.S) + \" sedimu vietu\"\n",
    "        return Txt\n",
    "    \n",
    "test = Car(P= 'pavadinimas', R=5000, S= 4)\n",
    "print(test.GetSeats())\n",
    "class Bus(Vehicle):\n",
    "    def __init__(self, P, R, S):\n",
    "       super().__init__(P, R)\n",
    "       self.S = S\n",
    "    \n",
    "    def GetSeats(self):\n",
    "        Txt = self.P + \"turi \" + str(self.S) + \" sedimu vietu \"\n",
    "        return Txt\n",
    "    \n",
    "test = Bus(P= 'pavadinimas', R=5000, S= 4)\n",
    "print(test.GetSeats())\n",
    "class Train(Vehicle):\n",
    "    def __init__(self, P, R, S):\n",
    "       super().__init__(P, R)\n",
    "       self.S = S\n",
    "    \n",
    "    def GetSeats(self):\n",
    "        Txt = self.P + \"turi \" + str(self.S) + \" sedimu vietu\"\n",
    "        return Txt\n",
    "    \n",
    "test = Train(P= 'pavadinimas', R=5000, S= 4)\n",
    "print(test.GetSeats())"
   ]
  },
  {
   "cell_type": "code",
   "execution_count": null,
   "metadata": {},
   "outputs": [],
   "source": [
    "#parašykite klasę TxtAnalyzer, kuriai kreipimosi metu galima būtų nurodyti failo pavadinimą ir stulpelių skirtuką.\n",
    "#klasė sukūrimo metu turi nuskaityti failą, stulpelius skaičių suskirstyti į sąrašus ir juos priskirti atributams X, Y ir Z.\n",
    "#Realizuokite metodus, kurie grąžintų X, Y, Z sąrašų vidurkius, minimalias ir maksimalias vertes. Pythone yra min, max, sum funkcijos\n"
   ]
  },
  {
   "cell_type": "code",
   "execution_count": 10,
   "metadata": {},
   "outputs": [
    {
     "name": "stdout",
     "output_type": "stream",
     "text": [
      "[0.25, 1.25, 2.25, 3.25, 4.25]\n"
     ]
    }
   ],
   "source": [
    "x = [1,2,3,4,5]\n",
    "x_new = []\n",
    "for skaičius in x:\n",
    "    x_new.append(skaičius-0.75)\n",
    "print(x_new)"
   ]
  },
  {
   "cell_type": "code",
   "execution_count": 15,
   "metadata": {},
   "outputs": [
    {
     "name": "stdout",
     "output_type": "stream",
     "text": [
      "[0.25, 1.25, 2.25, 3.25, 4.25]\n"
     ]
    }
   ],
   "source": [
    "x = [1,2,3,4,5]\n",
    "y = [i-0.75 for i in x]\n",
    "print(y)"
   ]
  },
  {
   "cell_type": "code",
   "execution_count": 16,
   "metadata": {},
   "outputs": [],
   "source": [
    "import numpy as np"
   ]
  },
  {
   "cell_type": "code",
   "execution_count": 19,
   "metadata": {},
   "outputs": [
    {
     "name": "stdout",
     "output_type": "stream",
     "text": [
      "[0 2 4 6 8]\n",
      "<class 'numpy.ndarray'>\n"
     ]
    }
   ],
   "source": [
    "# array - masyvai\n",
    "x = np.arange(0,10, 2)\n",
    "print(x)\n",
    "print(type(x))"
   ]
  },
  {
   "cell_type": "code",
   "execution_count": 20,
   "metadata": {},
   "outputs": [
    {
     "name": "stdout",
     "output_type": "stream",
     "text": [
      "[-0.75  1.25  3.25  5.25  7.25]\n"
     ]
    }
   ],
   "source": [
    "y = x-0.75\n",
    "print(y)"
   ]
  },
  {
   "cell_type": "code",
   "execution_count": null,
   "metadata": {},
   "outputs": [],
   "source": [
    "np.average()\n",
    "np.min()\n",
    "np.mean()\n",
    "np.mediana()"
   ]
  },
  {
   "cell_type": "code",
   "execution_count": 21,
   "metadata": {},
   "outputs": [
    {
     "name": "stdout",
     "output_type": "stream",
     "text": [
      "[1, 2, 3, 4, 5, 6, 7, 8, 9, 10]\n"
     ]
    }
   ],
   "source": [
    "a_list = [i for i in range(1, 11)]\n",
    "print(a_list)"
   ]
  },
  {
   "cell_type": "code",
   "execution_count": 22,
   "metadata": {},
   "outputs": [
    {
     "name": "stdout",
     "output_type": "stream",
     "text": [
      "[ 1.75  2.75  3.75  4.75  5.75  6.75  7.75  8.75  9.75 10.75]\n"
     ]
    }
   ],
   "source": [
    "a_array = np.asarray(a_list) #konvertuoja sąrašą į masyvą\n",
    "print(a_array+0.75)"
   ]
  }
 ],
 "metadata": {
  "kernelspec": {
   "display_name": "Python 3",
   "language": "python",
   "name": "python3"
  },
  "language_info": {
   "codemirror_mode": {
    "name": "ipython",
    "version": 3
   },
   "file_extension": ".py",
   "mimetype": "text/x-python",
   "name": "python",
   "nbconvert_exporter": "python",
   "pygments_lexer": "ipython3",
   "version": "3.12.2"
  }
 },
 "nbformat": 4,
 "nbformat_minor": 2
}
