{
 "cells": [
  {
   "cell_type": "code",
   "execution_count": 6,
   "metadata": {},
   "outputs": [
    {
     "ename": "AttributeError",
     "evalue": "'Train' object has no attribute 'GetSeats'",
     "output_type": "error",
     "traceback": [
      "\u001b[1;31m---------------------------------------------------------------------------\u001b[0m",
      "\u001b[1;31mAttributeError\u001b[0m                            Traceback (most recent call last)",
      "Cell \u001b[1;32mIn[6], line 36\u001b[0m\n\u001b[0;32m     34\u001b[0m         \u001b[38;5;28;01mreturn\u001b[39;00m Txt\n\u001b[0;32m     35\u001b[0m test \u001b[38;5;241m=\u001b[39m Train (P\u001b[38;5;241m=\u001b[39m\u001b[38;5;124m'\u001b[39m\u001b[38;5;124mPavadinimas\u001b[39m\u001b[38;5;124m'\u001b[39m, R\u001b[38;5;241m=\u001b[39m \u001b[38;5;241m5000\u001b[39m, S \u001b[38;5;241m=\u001b[39m \u001b[38;5;241m100\u001b[39m)\n\u001b[1;32m---> 36\u001b[0m \u001b[38;5;28mprint\u001b[39m(\u001b[43mtest\u001b[49m\u001b[38;5;241;43m.\u001b[39;49m\u001b[43mGetSeats\u001b[49m())\n",
      "\u001b[1;31mAttributeError\u001b[0m: 'Train' object has no attribute 'GetSeats'"
     ]
    }
   ],
   "source": [
    "#su paveldėjimu:\n",
    "# Sukurkite klasę Vehicle su tokiais atributais - Pavadinimas, Rida\n",
    "#Sukurkite išvestines klases Car, Bus, Train,\n",
    "# kurie paveldėtų viską iš Vehicle, ir papildomai būtų galima\n",
    "# nurodyti Seats - sėdimų vietų skaičių, ir visi \n",
    "# turėtų metoda GetSeats() grąžinantį tekstą:\n",
    "# <Pavadinimas> turi <Seats> sėdimų vietų.\n",
    "class Vehicle():\n",
    "    def __init__ (self, P, R):\n",
    "        self.P = P\n",
    "        self.R = R\n",
    "\n",
    "class Car(Vehicle):\n",
    "    def __init__ (self, P, R, S):\n",
    "        super().__init__(P, R) \n",
    "        self.S = S   \n",
    "    def getSeats(self):\n",
    "        Txt = self.P + \"turi\" + str(self.S) + \"sėdimų vietų\"\n",
    "        return Txt\n",
    "\n",
    "class Bus(Vehicle):\n",
    "    def __init__ (self, P, R, S):\n",
    "        super().__init__(P, R) \n",
    "        self.S = S   \n",
    "    def getSeats(self):\n",
    "        Txt = self.P + \"turi\" + str(self.S) + \"sėdimų vietų\"\n",
    "        return Txt\n",
    "class Train(Vehicle):\n",
    "    def __init__ (self, P, R, S):\n",
    "        super().__init__(P, R) \n",
    "        self.S = S   \n",
    "    def getSeats(self):\n",
    "        Txt = self.P + \"turi\" + str(self.S) + \"sėdimų vietų\"\n",
    "        return Txt\n",
    "test = Train (P='Pavadinimas', R= 5000, S = 100)\n",
    "print(test.GetSeats())"
   ]
  },
  {
   "cell_type": "code",
   "execution_count": 7,
   "metadata": {},
   "outputs": [
    {
     "name": "stdout",
     "output_type": "stream",
     "text": [
      "pavadinimas turi 4 sedimu vietu\n",
      "pavadinimasturi 4 sedimu vietu \n",
      "pavadinimasturi 4 sedimu vietu\n"
     ]
    }
   ],
   "source": [
    "# Remigijaus sprendimas\n",
    "# class Vehicle():\n",
    "#     def __init__(self, P, R):\n",
    "#         self.P = P\n",
    "#         self.R = R\n",
    "# class Car(Vehicle):\n",
    "#     def __init__(self, P, R, S):\n",
    "#        super().__init__(P, R)\n",
    "#        self.S = S\n",
    "    \n",
    "#     def GetSeats(self):\n",
    "#         Txt = self.P + \" turi \" + str(self.S) + \" sedimu vietu\"\n",
    "#         return Txt\n",
    "    \n",
    "# test = Car(P= 'pavadinimas', R=5000, S= 4)\n",
    "# print(test.GetSeats())\n",
    "# class Bus(Vehicle):\n",
    "#     def __init__(self, P, R, S):\n",
    "#        super().__init__(P, R)\n",
    "#        self.S = S\n",
    "    \n",
    "#     def GetSeats(self):\n",
    "#         Txt = self.P + \"turi \" + str(self.S) + \" sedimu vietu \"\n",
    "#         return Txt\n",
    "    \n",
    "# test = Bus(P= 'pavadinimas', R=5000, S= 4)\n",
    "# print(test.GetSeats())\n",
    "# class Train(Vehicle):\n",
    "#     def __init__(self, P, R, S):\n",
    "#        super().__init__(P, R)\n",
    "#        self.S = S\n",
    "    \n",
    "#     def GetSeats(self):\n",
    "#         Txt = self.P + \"turi \" + str(self.S) + \" sedimu vietu\"\n",
    "#         return Txt\n",
    "    \n",
    "# test = Train(P= 'pavadinimas', R=5000, S= 4)\n",
    "# print(test.GetSeats())"
   ]
  },
  {
   "cell_type": "code",
   "execution_count": null,
   "metadata": {},
   "outputs": [],
   "source": [
    "#parašykite klasę TxtAnalyzer, kuriai kreipimosi metu galima būtų nurodyti failo pavadinimą ir stulpelių skirtuką.\n",
    "#klasė sukūrimo metu turi nuskaityti failą, stulpelius skaičių suskirstyti į sąrašus ir juos priskirti atributams X, Y ir Z.\n",
    "#Realizuokite metodus, kurie grąžintų X, Y, Z sąrašų vidurkius, minimalias ir maksimalias vertes. Pythone yra min, max, sum funkcijos\n"
   ]
  },
  {
   "cell_type": "code",
   "execution_count": 10,
   "metadata": {},
   "outputs": [
    {
     "name": "stdout",
     "output_type": "stream",
     "text": [
      "[0.25, 1.25, 2.25, 3.25, 4.25]\n"
     ]
    }
   ],
   "source": [
    "x = [1,2,3,4,5]\n",
    "x_new = []\n",
    "for skaičius in x:\n",
    "    x_new.append(skaičius-0.75)\n",
    "print(x_new)"
   ]
  },
  {
   "cell_type": "code",
   "execution_count": 15,
   "metadata": {},
   "outputs": [
    {
     "name": "stdout",
     "output_type": "stream",
     "text": [
      "[0.25, 1.25, 2.25, 3.25, 4.25]\n"
     ]
    }
   ],
   "source": [
    "x = [1,2,3,4,5]\n",
    "y = [i-0.75 for i in x]\n",
    "print(y)"
   ]
  },
  {
   "cell_type": "code",
   "execution_count": 5,
   "metadata": {},
   "outputs": [],
   "source": [
    "import numpy as np"
   ]
  },
  {
   "cell_type": "code",
   "execution_count": 19,
   "metadata": {},
   "outputs": [
    {
     "name": "stdout",
     "output_type": "stream",
     "text": [
      "[0 2 4 6 8]\n",
      "<class 'numpy.ndarray'>\n"
     ]
    }
   ],
   "source": [
    "# array - masyvai\n",
    "x = np.arange(0,10, 2)\n",
    "print(x)\n",
    "print(type(x))"
   ]
  },
  {
   "cell_type": "code",
   "execution_count": 20,
   "metadata": {},
   "outputs": [
    {
     "name": "stdout",
     "output_type": "stream",
     "text": [
      "[-0.75  1.25  3.25  5.25  7.25]\n"
     ]
    }
   ],
   "source": [
    "y = x-0.75\n",
    "print(y)"
   ]
  },
  {
   "cell_type": "code",
   "execution_count": null,
   "metadata": {},
   "outputs": [],
   "source": [
    "np.average()\n",
    "np.min()\n",
    "np.mean()\n",
    "np.mediana()"
   ]
  },
  {
   "cell_type": "code",
   "execution_count": 21,
   "metadata": {},
   "outputs": [
    {
     "name": "stdout",
     "output_type": "stream",
     "text": [
      "[1, 2, 3, 4, 5, 6, 7, 8, 9, 10]\n"
     ]
    }
   ],
   "source": [
    "a_list = [i for i in range(1, 11)]\n",
    "print(a_list)"
   ]
  },
  {
   "cell_type": "code",
   "execution_count": 22,
   "metadata": {},
   "outputs": [
    {
     "name": "stdout",
     "output_type": "stream",
     "text": [
      "[ 1.75  2.75  3.75  4.75  5.75  6.75  7.75  8.75  9.75 10.75]\n"
     ]
    }
   ],
   "source": [
    "a_array = np.asarray(a_list) #konvertuoja sąrašą į masyvą\n",
    "print(a_array+0.75)"
   ]
  },
  {
   "cell_type": "code",
   "execution_count": 23,
   "metadata": {},
   "outputs": [
    {
     "name": "stdout",
     "output_type": "stream",
     "text": [
      "[ 1  8 15]\n"
     ]
    }
   ],
   "source": [
    "x =  [1,2,3] #sąrašai x ir y\n",
    "y = [1,4,5]\n",
    "x_np = np.asarray(x) #konvertuojame sąrašus į masyvus\n",
    "y_np = np.asarray(y)\n",
    "c = x_np*y_np\n",
    "print(c)"
   ]
  },
  {
   "cell_type": "code",
   "execution_count": 27,
   "metadata": {},
   "outputs": [
    {
     "data": {
      "text/plain": [
       "5"
      ]
     },
     "execution_count": 27,
     "metadata": {},
     "output_type": "execute_result"
    }
   ],
   "source": [
    "np.min(x)\n",
    "np.max(y_np)"
   ]
  },
  {
   "cell_type": "code",
   "execution_count": 29,
   "metadata": {},
   "outputs": [
    {
     "name": "stdout",
     "output_type": "stream",
     "text": [
      "[2 0 2 0 0 3 0 0 7 8 3 6 0 2 5 9 0 3 9 9 6 8 6 8 7 9 0 3 6 8 5 4 3 3 4 1 3\n",
      " 4 0 4 6 4 7 0 4 7 0 3 0 2 9 6 2 0 7 0 3 1 6 3 9 0 9 2 8 3 4 9 3 5 0 2 8 9\n",
      " 7 2 9 8 8 4 9 5 6 7 2 1 9 3 9 6 2 4 4 6 6 5 3 5 0 3]\n"
     ]
    }
   ],
   "source": [
    "atsitiktinis = np.random.randint(0,10, 100) # atsitiktiniai skaičiai tarp 0 ir 10, kurių sugeneriuos 100 vnt\n",
    "print(atsitiktinis)"
   ]
  },
  {
   "cell_type": "code",
   "execution_count": 30,
   "metadata": {},
   "outputs": [
    {
     "name": "stdout",
     "output_type": "stream",
     "text": [
      "[0.97740585 0.57131621 0.74391095 0.0112413  0.10267282 0.82881737\n",
      " 0.40988146 0.06631515 0.69739057 0.13440251 0.59627394 0.62605154\n",
      " 0.01213004 0.36381691 0.11786725 0.47687505 0.87996433 0.09471818\n",
      " 0.65077026 0.64712985 0.97326517 0.83036092 0.40788058 0.66131566\n",
      " 0.28463542 0.99815201 0.09140716 0.06325414 0.65423419 0.29052055\n",
      " 0.72596715 0.67177706 0.28604115 0.93299747 0.99648268 0.39886448\n",
      " 0.97467029 0.65833299 0.80537149 0.28946542 0.27235775 0.42593366\n",
      " 0.6594197  0.90052637 0.81803138 0.93929666 0.31816749 0.38177466\n",
      " 0.38404403 0.15372826 0.03212876 0.38742878 0.2571374  0.41150539\n",
      " 0.42556567 0.63197138 0.866414   0.99344088 0.68161798 0.79727771\n",
      " 0.43002765 0.06855883 0.33702658 0.03142285 0.23736946 0.28919638\n",
      " 0.81494968 0.81463379 0.18229284 0.1598324  0.95631084 0.32545793\n",
      " 0.78377148 0.97825098 0.27593518 0.93046269 0.95939048 0.25696779\n",
      " 0.29272982 0.94607201 0.89948517 0.26547678 0.71884684 0.39805658\n",
      " 0.96376715 0.22936207 0.22780903 0.74671919 0.79815119 0.46881511\n",
      " 0.03416547 0.42259266 0.35652324 0.0800718  0.63528798 0.24815441\n",
      " 0.32989012 0.00461257 0.74729294 0.78790491]\n"
     ]
    }
   ],
   "source": [
    "atsitiktinis_float = np.random.rand(100)\n",
    "print(atsitiktinis_float)"
   ]
  },
  {
   "cell_type": "code",
   "execution_count": 34,
   "metadata": {},
   "outputs": [
    {
     "name": "stdout",
     "output_type": "stream",
     "text": [
      "5.06\n",
      "4.841909223441494\n",
      "5.0 1 9\n"
     ]
    }
   ],
   "source": [
    "xas = np.random.randint(1,10,100)\n",
    "svoriai = np.random.rand(100)\n",
    "# mean ir average\n",
    "vidurkis = np.mean(xas) # mean yra griežtai aritmetinis vidurkis\n",
    "print(vidurkis)\n",
    "sv_vidurkis = np.average(xas, weights=svoriai) # average - svorinis vidurkis\n",
    "print(sv_vidurkis)\n",
    "# mediana\n",
    "medx = np.median(xas)\n",
    "print(medx, np.min(xas), np.max(xas))\n"
   ]
  },
  {
   "cell_type": "code",
   "execution_count": 44,
   "metadata": {},
   "outputs": [
    {
     "name": "stdout",
     "output_type": "stream",
     "text": [
      "[ 0.          0.71428571  1.42857143  2.14285714  2.85714286  3.57142857\n",
      "  4.28571429  5.          5.71428571  6.42857143  7.14285714  7.85714286\n",
      "  8.57142857  9.28571429 10.        ]\n"
     ]
    }
   ],
   "source": [
    "l = np.linspace(0, 10, 15) # linspace nuo kurio, iki kurio ir kiek skaičių turi būti intervale\n",
    "print(l)"
   ]
  },
  {
   "cell_type": "code",
   "execution_count": 46,
   "metadata": {},
   "outputs": [
    {
     "name": "stdout",
     "output_type": "stream",
     "text": [
      "0\n",
      "4.5\n",
      "9\n"
     ]
    }
   ],
   "source": [
    "# asarray, arange, min, max, mean, average, median\n",
    "n_np = np.arange(0,10)\n",
    "# kaip metodai\n",
    "minn = n_np.min()\n",
    "print(minn)\n",
    "print(n_np.mean())\n",
    "print(n_np.max())"
   ]
  },
  {
   "cell_type": "code",
   "execution_count": 2,
   "metadata": {},
   "outputs": [],
   "source": [
    "%load_ext autoreload"
   ]
  },
  {
   "cell_type": "code",
   "execution_count": 3,
   "metadata": {},
   "outputs": [],
   "source": [
    "%autoreload 2"
   ]
  },
  {
   "cell_type": "code",
   "execution_count": 6,
   "metadata": {},
   "outputs": [
    {
     "ename": "NameError",
     "evalue": "name 'self' is not defined",
     "output_type": "error",
     "traceback": [
      "\u001b[1;31m---------------------------------------------------------------------------\u001b[0m",
      "\u001b[1;31mNameError\u001b[0m                                 Traceback (most recent call last)",
      "Cell \u001b[1;32mIn[6], line 1\u001b[0m\n\u001b[1;32m----> 1\u001b[0m \u001b[38;5;28;01mimport\u001b[39;00m \u001b[38;5;21;01mmodulis\u001b[39;00m\n",
      "File \u001b[1;32mc:\\Users\\edita\\Documents\\KURSAI\\Darbai\\Bandomasis\\modulis.py:44\u001b[0m\n\u001b[0;32m     37\u001b[0m         \u001b[38;5;28;01mreturn\u001b[39;00m Txt\n\u001b[0;32m     39\u001b[0m \u001b[38;5;66;03m#sukurkite failus nuskaitančią klasę, ji turi būti aprašyta jūsų kuriamame modulyje;\u001b[39;00m\n\u001b[0;32m     40\u001b[0m \u001b[38;5;66;03m#ta klasė turi nuskaityti pateiktą failą, ir suskaidyti stulpelius į sąrašus:\u001b[39;00m\n\u001b[0;32m     41\u001b[0m \u001b[38;5;66;03m#sąrašai I, U, j, P, duomenys iš juos iš atitinkamų taip pat pavadintų stulpelių\u001b[39;00m\n\u001b[0;32m     42\u001b[0m \u001b[38;5;66;03m#realizuokite tai, jog klasė rastų tokį dydį - maksimalų P, suskaičiuotų tokį dydį pce = Pmax / 1000 * 100%;\u001b[39;00m\n\u001b[0;32m     43\u001b[0m \u001b[38;5;66;03m#šie dydžiai turi būti pasiekiamį arba kaip atributas, arba galite įdėti metodą jam gauti\u001b[39;00m\n\u001b[1;32m---> 44\u001b[0m \u001b[38;5;28;43;01mclass\u001b[39;49;00m\u001b[43m \u001b[49m\u001b[38;5;21;43;01mFileAnalyzer\u001b[39;49;00m\u001b[43m(\u001b[49m\u001b[43m)\u001b[49m\u001b[43m:\u001b[49m\n\u001b[0;32m     45\u001b[0m \u001b[43m    \u001b[49m\u001b[38;5;28;43;01mdef\u001b[39;49;00m\u001b[43m \u001b[49m\u001b[38;5;21;43m__init__\u001b[39;49m\u001b[43m(\u001b[49m\u001b[38;5;28;43mself\u001b[39;49m\u001b[43m,\u001b[49m\u001b[43m \u001b[49m\u001b[43mpav\u001b[49m\u001b[43m,\u001b[49m\u001b[43m \u001b[49m\u001b[43mskirtukas\u001b[49m\u001b[43m)\u001b[49m\u001b[43m:\u001b[49m\n\u001b[0;32m     46\u001b[0m \u001b[43m        \u001b[49m\u001b[38;5;28;43mself\u001b[39;49m\u001b[38;5;241;43m.\u001b[39;49m\u001b[43mpavadinimas\u001b[49m\u001b[43m \u001b[49m\u001b[38;5;241;43m=\u001b[39;49m\u001b[43m \u001b[49m\u001b[43mpav\u001b[49m\n",
      "File \u001b[1;32mc:\\Users\\edita\\Documents\\KURSAI\\Darbai\\Bandomasis\\modulis.py:72\u001b[0m, in \u001b[0;36mFileAnalyzer\u001b[1;34m()\u001b[0m\n\u001b[0;32m     70\u001b[0m     Pmax \u001b[38;5;241m=\u001b[39m \u001b[38;5;28mmax\u001b[39m(\u001b[38;5;28mself\u001b[39m\u001b[38;5;241m.\u001b[39mP)\n\u001b[0;32m     71\u001b[0m     \u001b[38;5;28;01mreturn\u001b[39;00m Pmax\n\u001b[1;32m---> 72\u001b[0m \u001b[38;5;28mprint\u001b[39m(\u001b[38;5;28;43mself\u001b[39;49m\u001b[38;5;241m.\u001b[39mPmax)\n\u001b[0;32m     74\u001b[0m \u001b[38;5;28;01mdef\u001b[39;00m \u001b[38;5;21mgetPCE\u001b[39m(\u001b[38;5;28mself\u001b[39m):\n\u001b[0;32m     75\u001b[0m     Pmax \u001b[38;5;241m=\u001b[39m \u001b[38;5;28mself\u001b[39m\u001b[38;5;241m.\u001b[39mgetPMax()\n",
      "\u001b[1;31mNameError\u001b[0m: name 'self' is not defined"
     ]
    }
   ],
   "source": [
    "import modulis"
   ]
  },
  {
   "cell_type": "code",
   "execution_count": 21,
   "metadata": {},
   "outputs": [
    {
     "name": "stdout",
     "output_type": "stream",
     "text": [
      "70\n"
     ]
    }
   ],
   "source": [
    "print(modulis.A)"
   ]
  },
  {
   "cell_type": "code",
   "execution_count": 68,
   "metadata": {},
   "outputs": [
    {
     "name": "stdout",
     "output_type": "stream",
     "text": [
      "Aš esu nauja printA() funkcija\n",
      "Dar vienas pakeitimas\n"
     ]
    }
   ],
   "source": [
    "modulis.printA()"
   ]
  },
  {
   "cell_type": "code",
   "execution_count": null,
   "metadata": {},
   "outputs": [],
   "source": [
    "# iškelkite savo anksčiau rašytas Vehicle, Car, etc klases į modulį\n",
    "# patikrinti klasių veikimą\n",
    "# sukurdami kintamuosius"
   ]
  },
  {
   "cell_type": "code",
   "execution_count": 5,
   "metadata": {},
   "outputs": [
    {
     "name": "stdout",
     "output_type": "stream",
     "text": [
      "pavadinimas turi 4 sedimu vietu\n",
      "pavadinimasturi 4 sedimu vietu \n",
      "pavadinimasturi 4 sedimu vietu\n"
     ]
    }
   ],
   "source": [
    "test = modulis.Car(P= 'pavadinimas', R=5000, S= 4)\n",
    "print(test.GetSeats())\n",
    "\n",
    "test = modulis.Bus(P= 'pavadinimas', R=5000, S= 4)\n",
    "print(test.GetSeats())\n",
    "\n",
    "test = modulis.Train(P= 'pavadinimas', R=5000, S= 4)\n",
    "print(test.GetSeats())    "
   ]
  },
  {
   "cell_type": "code",
   "execution_count": 8,
   "metadata": {},
   "outputs": [
    {
     "name": "stdout",
     "output_type": "stream",
     "text": [
      "[1.2, 1.1766667, 1.1533333, 1.13, 1.1066667, 1.0833333, 1.06, 1.0366667, 1.0133333, 0.99, 0.9666667, 0.9433333, 0.92, 0.8966667, 0.8733333, 0.85, 0.8266667, 0.8033333, 0.78, 0.7566667, 0.7333333, 0.71, 0.6866667, 0.6633333, 0.64, 0.6166667, 0.5933333, 0.57, 0.5466667, 0.5233333, 0.5, 0.4766667, 0.4533333, 0.43, 0.4066667, 0.3833333, 0.36, 0.3366667, 0.3133333, 0.29, 0.2666667, 0.2433333, 0.22, 0.1966667, 0.1733333, 0.15, 0.1266667, 0.1033333, 0.08, 0.0566667, 0.0333333, 0.01, -0.0133333, -0.0366667, -0.06, -0.0833333, -0.1066667, -0.13, -0.1533333, -0.1766667, -0.2]\n",
      "[0.0016649, 0.0009455, 0.0007314, 0.0005438, 0.0003807, 0.0002361, 0.0001112, 7.9e-06, -8.02e-05, -0.0001565, -0.0002187, -0.0002693, -0.0003116, -0.0003498, -0.0003837, -0.0004108, -0.0004379, -0.000462, -0.0004839, -0.000506, -0.0005252, -0.0005449, -0.000562, -0.0005766, -0.0005938, -0.0006098, -0.0006256, -0.0006376, -0.0006502, -0.0006661, -0.0006754, -0.000687, -0.0006992, -0.0007072, -0.0007168, -0.0007257, -0.0007335, -0.0007412, -0.0007465, -0.0007485, -0.0007526, -0.0007567, -0.0007609, -0.0007609, -0.0007625, -0.0007657, -0.0007648, -0.0007641, -0.0007631, -0.0007641, -0.0007636, -0.0007606, -0.0007594, -0.00076, -0.0007562, -0.0007586, -0.0007569, -0.0007564, -0.000752, -0.0007523, -0.0007524]\n",
      "[20.8118375, 11.8182562, 9.142985, 6.7977675, 4.7582825, 2.95165, 1.389795, 0.0992689, -1.0020675, -1.9566913, -2.733175, -3.3666913, -3.894765, -4.3723275, -4.7965137, -5.1346213, -5.4734425, -5.77456, -6.048345, -6.3255663, -6.5643925, -6.8117538, -7.0252675, -7.2076575, -7.4222275, -7.6220275, -7.8203925, -7.969395, -8.1271838, -8.3264925, -8.44218, -8.5873575, -8.7399288, -8.84032, -8.9600075, -9.0715375, -9.1688, -9.2644613, -9.3317287, -9.3562413, -9.4069775, -9.4590725, -9.511565, -9.5116975, -9.530755, -9.5714638, -9.5599925, -9.5511213, -9.5392038, -9.5508112, -9.545485, -9.507875, -9.4919412, -9.5005525, -9.452765, -9.4825662, -9.4609075, -9.4552562, -9.4005575, -9.403595, -9.4045075]\n",
      "[24.974205, 13.9061482, 10.5449094, 7.6814773, 5.2658326, 3.1976208, 1.4731827, 0.1029088, -1.0154284, -1.9371243, -2.6420692, -3.1759121, -3.5831838, -3.9205203, -4.1889553, -4.3644281, -4.5247125, -4.6388965, -4.7177091, -4.7863451, -4.8138878, -4.8363452, -4.824017, -4.7810795, -4.7502256, -4.7002503, -4.6400995, -4.5425551, -4.4428604, -4.3575311, -4.22109, -4.0933071, -3.962101, -3.8013376, -3.6437364, -3.4774227, -3.300768, -3.1190353, -2.9239417, -2.71331, -2.5085273, -2.3017076, -2.0925443, -1.8706338, -1.6519975, -1.4357196, -1.2109324, -0.9869492, -0.7631363, -0.5412126, -0.3181828, -0.0950787, 0.1265592, 0.3483536, 0.5671659, 0.7902139, 1.0091635, 1.2291833, 1.4414188, 1.6613018, 1.8809015]\n"
     ]
    },
    {
     "data": {
      "text/plain": [
       "2.4974205000000005"
      ]
     },
     "execution_count": 8,
     "metadata": {},
     "output_type": "execute_result"
    }
   ],
   "source": [
    "#sukurkite failus nuskaitančią klasę, ji turi būti aprašyta jūsų kuriamame modulyje;\n",
    "#ta klasė turi nuskaityti pateiktą failą, ir suskaidyti stulpelius į sąrašus:\n",
    "#sąrašai I, U, j, P, duomenys iš juos iš atitinkamų taip pat pavadintų stulpelių\n",
    "#realizuokite tai, jog klasė rastų tokį dydį - maksimalų P, suskaičiuotų tokį dydį pce = Pmax / 1000 * 100%;\n",
    "#šie dydžiai turi būti pasiekiamį arba kaip atributas, arba galite įdėti metodą jam gauti\n",
    "\n",
    "import modulis\n",
    "    \n",
    "kintamasis = modulis.FileAnalyzer('REF_D_1k_FW_2.05.dat')    \n",
    "kintamasis.readText()\n",
    "kintamasis.Pmax()\n",
    "kintamasis.PCE()"
   ]
  }
 ],
 "metadata": {
  "kernelspec": {
   "display_name": "Python 3",
   "language": "python",
   "name": "python3"
  },
  "language_info": {
   "codemirror_mode": {
    "name": "ipython",
    "version": 3
   },
   "file_extension": ".py",
   "mimetype": "text/x-python",
   "name": "python",
   "nbconvert_exporter": "python",
   "pygments_lexer": "ipython3",
   "version": "3.12.2"
  }
 },
 "nbformat": 4,
 "nbformat_minor": 2
}
