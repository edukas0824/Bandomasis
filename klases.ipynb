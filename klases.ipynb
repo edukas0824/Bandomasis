{
 "cells": [
  {
   "cell_type": "code",
   "execution_count": 1,
   "metadata": {},
   "outputs": [
    {
     "name": "stdout",
     "output_type": "stream",
     "text": [
      "Testas\n"
     ]
    }
   ],
   "source": [
    "print(\"Testas\")"
   ]
  },
  {
   "cell_type": "code",
   "execution_count": 3,
   "metadata": {},
   "outputs": [
    {
     "name": "stdout",
     "output_type": "stream",
     "text": [
      "<class 'str'>\n",
      "<class 'int'>\n",
      "<class 'list'>\n"
     ]
    }
   ],
   "source": [
    "# klasės\n",
    "s = 'tekstas'\n",
    "sk = 7\n",
    "sar = []\n",
    "print(type(s), type (sk), type(sar), sep='\\n')\n",
    "s.upper()\n"
   ]
  },
  {
   "cell_type": "code",
   "execution_count": 68,
   "metadata": {},
   "outputs": [],
   "source": [
    "Name = \"Petriukas\"\n",
    "class Asmuo():\n",
    "    def __init__(self, name):\n",
    "        self.Name = name # klasės atributas (tiesiog kintamasis esantis klasės viduje)\n",
    "        pass\n",
    "    def getName(self):\n",
    "        return self.Name\n",
    "    def setName(self, new_name):\n",
    "        self.Name = new_name "
   ]
  },
  {
   "cell_type": "code",
   "execution_count": 69,
   "metadata": {},
   "outputs": [
    {
     "name": "stdout",
     "output_type": "stream",
     "text": [
      "<class '__main__.Asmuo'>\n",
      "<class '__main__.Asmuo'>\n"
     ]
    }
   ],
   "source": [
    "a1 = Asmuo('Jonukas')\n",
    "a2 = Asmuo('Petriukas')\n",
    "\n",
    "print(type(a1), type(a2), sep='\\n')"
   ]
  },
  {
   "cell_type": "code",
   "execution_count": 70,
   "metadata": {},
   "outputs": [
    {
     "name": "stdout",
     "output_type": "stream",
     "text": [
      "Jonukas\n",
      "Vardenis\n"
     ]
    }
   ],
   "source": [
    "print (a1.getName())\n",
    "a1.setName('Vardenis')\n",
    "print(a1.getName())"
   ]
  },
  {
   "cell_type": "code",
   "execution_count": 62,
   "metadata": {},
   "outputs": [],
   "source": [
    "a1.Name = 'Marytė'"
   ]
  },
  {
   "cell_type": "code",
   "execution_count": 63,
   "metadata": {},
   "outputs": [
    {
     "name": "stdout",
     "output_type": "stream",
     "text": [
      "Marytė\n"
     ]
    }
   ],
   "source": [
    "ats = a1.getName()\n",
    "print(ats)"
   ]
  },
  {
   "cell_type": "code",
   "execution_count": 47,
   "metadata": {},
   "outputs": [
    {
     "name": "stdout",
     "output_type": "stream",
     "text": [
      "Jonukas\n"
     ]
    }
   ],
   "source": [
    "a1.printName()"
   ]
  },
  {
   "cell_type": "code",
   "execution_count": 43,
   "metadata": {},
   "outputs": [
    {
     "name": "stdout",
     "output_type": "stream",
     "text": [
      "Petriukas\n"
     ]
    }
   ],
   "source": [
    "a2.printName()"
   ]
  },
  {
   "cell_type": "code",
   "execution_count": 42,
   "metadata": {},
   "outputs": [
    {
     "name": "stdout",
     "output_type": "stream",
     "text": [
      "Onutė\n"
     ]
    }
   ],
   "source": [
    "a3.printName()"
   ]
  },
  {
   "cell_type": "code",
   "execution_count": 94,
   "metadata": {},
   "outputs": [],
   "source": [
    "def calculateAge():\n",
    "    return \"cha!!!\"\n",
    "\n",
    "\n",
    "class Asmuo():\n",
    "    def __init__(self, name, gm):\n",
    "        self.Name = name # klasės atributas (tiesiog kintamasis esantis klasės viduje)\n",
    "        self.BYear = gm\n",
    "        self.Age = self.calculateAge() # kaip kreiptis į metodą iš kito metodo\n",
    "        pass\n",
    "    def getName(self):\n",
    "        return self.Name\n",
    "    def setName(self, new_name):\n",
    "        self.Name = new_name\n",
    "    def calculateAge(self):\n",
    "        return 2024-self.BYear"
   ]
  },
  {
   "cell_type": "code",
   "execution_count": 95,
   "metadata": {},
   "outputs": [
    {
     "name": "stdout",
     "output_type": "stream",
     "text": [
      "28 Vardenis\n"
     ]
    }
   ],
   "source": [
    "a1 = Asmuo ('Vardenis', 1996)\n",
    "print(a1.Age, a1.getName())"
   ]
  },
  {
   "cell_type": "code",
   "execution_count": 96,
   "metadata": {},
   "outputs": [],
   "source": [
    "# paveldėjimas\n",
    "\n",
    "class Studentas(Asmuo):\n",
    "    def getStatus(self):\n",
    "        return \"studentas\"\n",
    "\n"
   ]
  },
  {
   "cell_type": "code",
   "execution_count": 97,
   "metadata": {},
   "outputs": [],
   "source": [
    "std1 = Studentas('Ugnė', 1992)"
   ]
  },
  {
   "cell_type": "code",
   "execution_count": 98,
   "metadata": {},
   "outputs": [
    {
     "name": "stdout",
     "output_type": "stream",
     "text": [
      "32 Ugnė\n"
     ]
    }
   ],
   "source": [
    "print(std1.Age, std1.getName())"
   ]
  },
  {
   "cell_type": "code",
   "execution_count": 99,
   "metadata": {},
   "outputs": [
    {
     "data": {
      "text/plain": [
       "'studentas'"
      ]
     },
     "execution_count": 99,
     "metadata": {},
     "output_type": "execute_result"
    }
   ],
   "source": [
    "std1.getStatus()"
   ]
  },
  {
   "cell_type": "code",
   "execution_count": 107,
   "metadata": {},
   "outputs": [],
   "source": [
    "# sudėtingesnis paveldėjimo atvejis\n",
    "\n",
    "class Studentas(Asmuo):\n",
    "    def __init__(self, name, gm):\n",
    "        super().__init__(name, gm)\n",
    "        self.Enroll = True\n",
    "std1 = Studentas('Ugnė', 1996)"
   ]
  },
  {
   "cell_type": "code",
   "execution_count": 108,
   "metadata": {},
   "outputs": [
    {
     "name": "stdout",
     "output_type": "stream",
     "text": [
      "28 True\n"
     ]
    }
   ],
   "source": [
    "print(std1.Age, std1.Enroll)"
   ]
  },
  {
   "cell_type": "code",
   "execution_count": null,
   "metadata": {},
   "outputs": [],
   "source": [
    "# aprašykite klasę Kvadratas\n",
    "# kreipiantis į klasę, reikia nurodyti kvadrato ilgį a\n",
    "# Klasė turi turėti atributiką Plotas, kurį turi\n",
    "# apslaičiuoti klasės kūrimo metu\n",
    "# Plotas = a*a\n",
    "# Parašykite metodą, kuris grąžintų apskaičiuoto Plotas atributo reikšmę"
   ]
  },
  {
   "cell_type": "code",
   "execution_count": 139,
   "metadata": {},
   "outputs": [
    {
     "name": "stdout",
     "output_type": "stream",
     "text": [
      "49\n",
      "28\n"
     ]
    }
   ],
   "source": [
    "class Kvadratas():\n",
    "    def __init__(self, a):\n",
    "        self.a = a\n",
    "        self.Plotas = a * a\n",
    "        self.Perimetras =4*a\n",
    "    \n",
    "    def getPerimetras(self):\n",
    "        return self.Perimetras\n",
    "    \n",
    "    def getPlotas(self):\n",
    "        return self.Plotas\n",
    "\n",
    "kint = Kvadratas(a=7)\n",
    "\n",
    "print(kint.getPlotas())\n",
    "print(kint.getPerimetras())"
   ]
  },
  {
   "cell_type": "code",
   "execution_count": 145,
   "metadata": {},
   "outputs": [
    {
     "name": "stdout",
     "output_type": "stream",
     "text": [
      "56\n",
      "30\n"
     ]
    }
   ],
   "source": [
    "# aprašykite klasę Rectangle\n",
    "# kreipiantis į klasę, reikia nurodyti stačiakampio\n",
    "# kraštines a ir b.\n",
    "# Realizuokite atributą Plotas = a*b\n",
    "# ir metodą, grąžinantį Ploto reikšmę\n",
    "# Taip pat pridėkite metodą, apskaičiuojantį ir grąžinantį\n",
    "# perimetrą P=2(a+b)\n",
    "class Rectangle():\n",
    "    def __init__(self, a, b):\n",
    "        self.a = a\n",
    "        self.b = b\n",
    "        self.Plotas = a * b\n",
    "        self.Perimetras = 2* (a+b)\n",
    "       \n",
    "    def getPlotas(self):\n",
    "        return self.Plotas\n",
    "\n",
    "    def getPerimetras(self):\n",
    "        return self.Perimetras\n",
    "    \n",
    "sk  = Rectangle(7, 8)\n",
    "print(sk.getPlotas())\n",
    "print(sk.getPerimetras())\n",
    "\n"
   ]
  },
  {
   "cell_type": "code",
   "execution_count": 147,
   "metadata": {},
   "outputs": [
    {
     "name": "stdout",
     "output_type": "stream",
     "text": [
      "24\n"
     ]
    }
   ],
   "source": [
    "class Kubas():\n",
    "    def __init__(self, a, b, c):\n",
    "        self.a = a\n",
    "        self.b = b\n",
    "        self.c = c\n",
    "        self.Tūris = a*b*c\n",
    "\n",
    "    # def getPlotas(self):\n",
    "    #     return self.Plotas\n",
    "\n",
    "    # def getPerimetras(self):\n",
    "    #     return self.Perimetras\n",
    "    \n",
    "    def getTūris(self):\n",
    "        return self.Tūris\n",
    "\n",
    "\n",
    "t = Kubas(2, 3, 4)\n",
    "print(t.getTūris())"
   ]
  },
  {
   "cell_type": "code",
   "execution_count": 152,
   "metadata": {},
   "outputs": [
    {
     "name": "stdout",
     "output_type": "stream",
     "text": [
      "Šiandien yra pirmadienis!\n"
     ]
    }
   ],
   "source": [
    "#susikurkite su Notepadu tekstinį failą su bet kokiu tekstu\n",
    "#parašykite klasę TxtReader, kuriai kreipimosimetu būtų nurodomas tekstinio failo pavadinimas;\n",
    "#klasės sukūrimo metu tas tekstinis failas turi būti nuskaitomas\n",
    "#ir nuskaitytas tekstas turi būti priskirtas atributui Text\n",
    "#parašykite metodą getText(), kuri grąžintų atributo text reikšmę\n",
    "class TxtReader():\n",
    "    def __init__ (self, tekstas):\n",
    "        self.tekstas = tekstas\n",
    "        self.Text = self.nuskaityti_teksta()\n",
    "    \n",
    "    def nuskaityti_teksta(self):\n",
    "        with open(self.tekstas, 'r', encoding='utf-8') as failas:\n",
    "            return failas.read()\n",
    "    \n",
    "    def getText(self):\n",
    "        return self.Text\n",
    "t = TxtReader('tekstas.txt')\n",
    "print(t.getText())\n",
    "\n"
   ]
  },
  {
   "cell_type": "code",
   "execution_count": 155,
   "metadata": {},
   "outputs": [
    {
     "name": "stdout",
     "output_type": "stream",
     "text": [
      "Šiandien yra pirmadienis!\n"
     ]
    }
   ],
   "source": [
    "class TxtReader():\n",
    "    def __init__ (self, tekstas):\n",
    "        self.tekstas = tekstas\n",
    "        file_r = open (self.tekstas, 'r', encoding='utf-8')\n",
    "        self.Text = file_r.read()\n",
    "        file_r.close()\n",
    "\n",
    "    def getText(self):\n",
    "        return self.Text\n",
    "t = TxtReader('tekstas.txt')\n",
    "print(t.getText())"
   ]
  },
  {
   "cell_type": "code",
   "execution_count": 165,
   "metadata": {},
   "outputs": [
    {
     "name": "stdout",
     "output_type": "stream",
     "text": [
      "1256.0\n",
      "4186.666666666667\n",
      "1808.64\n",
      "7234.5599999999995\n"
     ]
    }
   ],
   "source": [
    "#Sukurkite klasę Rutulys\n",
    "#kuriai galėtumėte nurodyti Rutulio spindulį r.\n",
    "#Sukurkite metodus, skirtus rasti jo Tūriui ir paviršiaus plotui;\n",
    "#Taip pat metodą, kuriuo jūs pakeistumėte spindulio r reikšmę.\n",
    "class Rutulys():\n",
    "    def __init__ (self, r):\n",
    "        self.r = r\n",
    "           \n",
    "    def getPav_Plotas(self):\n",
    "        Pav_Plotas = 4*3.14*self.r**2\n",
    "        return Pav_Plotas\n",
    "\n",
    "    def getTūris(self):\n",
    "        Tūris = 4/3*3.14*self.r**3\n",
    "        return Tūris\n",
    "    \n",
    "    def changer(self, new_r):\n",
    "        self.r = new_r\n",
    "        \n",
    "r = int(input(\"Įveskite spindulį r\"))\n",
    "    \n",
    "rutulys  = Rutulys(r)\n",
    "print(rutulys.getPav_Plotas())\n",
    "print(rutulys.getTūris())\n",
    "\n",
    "r = int(input(\"Įveskite spindulį r\"))\n",
    "rutulys.changer(r)\n",
    "\n",
    "print(rutulys.getPav_Plotas())\n",
    "print(rutulys.getTūris())"
   ]
  },
  {
   "cell_type": "code",
   "execution_count": null,
   "metadata": {},
   "outputs": [],
   "source": [
    "#užduotis su paveldjimu:\n",
    "#parašykite klasę Rectangle, kurioje būtų ilgio ir pločio atributai, bei du metodai - getS - plotui ir getP -erimetrui rasti\n",
    "#Sukurkite išvestinę (child) klasę Kubas, kuri papildomai turėtų Tūrio skaičiavimo metodą\n",
    "#• Klasę Piramidė - išvestinė klasė (child class). Pridėkite\n",
    "# papildomą funkcionalumą - metodą, argumentus piramidės\n",
    "# tūrio skaičiavimui."
   ]
  },
  {
   "cell_type": "code",
   "execution_count": 179,
   "metadata": {},
   "outputs": [
    {
     "name": "stdout",
     "output_type": "stream",
     "text": [
      "['52;0.3666;19.0616\\n', '11;0.8672;9.5391\\n', '55;0.9966;54.8137\\n', '55;0.7318;40.2481\\n', '47;0.6703;31.5026\\n', '71;0.2205;15.6522\\n', '49;0.4725;23.1545\\n', '48;0.5563;26.7004\\n', '82;0.5348;43.8516\\n', '24;0.3462;8.3078\\n', '13;0.784;10.1921\\n', '95;0.348;33.0584\\n', '22;0.8328;18.3206\\n', '95;0.5423;51.5156\\n', '32;0.3351;10.722\\n', '35;0.1916;6.7055\\n', '86;0.1262;10.8526\\n', '90;0.5941;53.47\\n', '8;0.914;7.3119\\n', '21;0.7839;16.4628\\n', '23;0.7763;17.8547\\n', '92;0.8757;80.5658\\n', '38;0.4502;17.1066\\n', '99;0.6906;68.37\\n', '29;0.8418;24.4108\\n', '93;0.1275;11.8609\\n', '53;0.1101;5.8339\\n', '87;0.3211;27.9361\\n', '47;0.5525;25.9672\\n', '38;0.5458;20.7417\\n', '38;0.8458;32.1402\\n', '36;0.6115;22.0154\\n', '83;0.5083;42.1888\\n', '79;0.7373;58.2501\\n', '2;0.9759;1.9518\\n', '18;0.7192;12.9463\\n', '86;0.0424;3.6446\\n', '78;0.4218;32.9034\\n', '51;0.8271;42.1807\\n', '7;0.796;5.5719\\n', '65;0.2074;13.4795\\n', '9;0.0712;0.6406\\n', '50;0.0602;3.0117\\n', '59;0.1218;7.1866\\n', '91;0.5095;46.3658\\n', '39;0.4785;18.662\\n', '36;0.9309;33.5135\\n', '16;0.9365;14.9834\\n', '73;0.918;67.0125\\n', '54;0.8063;43.5409\\n', '79;0.6445;50.9184\\n', '47;0.2458;11.5529\\n', '97;0.891;86.4277\\n', '0;0.447;0.0\\n', '18;0.4852;8.7331\\n', '54;0.2035;10.9905\\n', '93;0.8647;80.4135\\n', '79;0.0794;6.2735\\n', '62;0.8848;54.8547\\n', '63;0.632;39.8134\\n', '22;0.2339;5.146\\n', '49;0.5989;29.3444\\n', '19;0.3103;5.8948\\n', '43;0.6658;28.6315\\n', '65;0.2537;16.4886\\n', '0;0.141;0.0\\n', '80;0.034;2.7227\\n', '70;0.845;59.1502\\n', '95;0.2386;22.6687\\n', '58;0.9328;54.1016\\n', '47;0.8425;39.5996\\n', '89;0.4205;37.4252\\n', '99;0.6455;63.9074\\n', '94;0.4627;43.4957\\n', '70;0.3674;25.7203\\n', '41;0.0327;1.339\\n', '60;0.1313;7.8757\\n', '18;0.6409;11.5358\\n', '12;0.8725;10.4701\\n', '3;0.6112;1.8335\\n', '28;0.9838;27.5461\\n', '50;0.1139;5.6974\\n', '33;0.5738;18.9364\\n', '52;0.8379;43.5727\\n', '99;0.5597;55.4141\\n', '41;0.7883;32.3216\\n', '1;0.4241;0.4241\\n', '58;0.511;29.6396\\n', '60;0.876;52.5573\\n', '5;0.45;2.2501\\n', '3;0.0977;0.293\\n', '44;0.7697;33.8663\\n', '83;0.5361;44.4997\\n', '51;0.671;34.2191\\n', '58;0.8126;47.1291\\n', '27;0.0196;0.5292\\n', '71;0.8812;62.5665\\n', '96;0.1953;18.7448\\n', '18;0.9794;17.63\\n', '83;0.84;69.716']\n"
     ]
    },
    {
     "ename": "NameError",
     "evalue": "name 'y' is not defined",
     "output_type": "error",
     "traceback": [
      "\u001b[1;31m---------------------------------------------------------------------------\u001b[0m",
      "\u001b[1;31mNameError\u001b[0m                                 Traceback (most recent call last)",
      "Cell \u001b[1;32mIn[179], line 33\u001b[0m\n\u001b[0;32m     29\u001b[0m         \u001b[38;5;28mprint\u001b[39m(\u001b[38;5;28mself\u001b[39m\u001b[38;5;241m.\u001b[39mz)\n\u001b[0;32m     32\u001b[0m z \u001b[38;5;241m=\u001b[39m TxtAnalyzer(\u001b[38;5;124m'\u001b[39m\u001b[38;5;124mdata0.txt\u001b[39m\u001b[38;5;124m'\u001b[39m, \u001b[38;5;124m'\u001b[39m\u001b[38;5;124m;\u001b[39m\u001b[38;5;124m'\u001b[39m)\n\u001b[1;32m---> 33\u001b[0m \u001b[43mz\u001b[49m\u001b[38;5;241;43m.\u001b[39;49m\u001b[43mTxtReader\u001b[49m\u001b[43m(\u001b[49m\u001b[43m)\u001b[49m\n",
      "Cell \u001b[1;32mIn[179], line 25\u001b[0m, in \u001b[0;36mTxtAnalyzer.TxtReader\u001b[1;34m(self)\u001b[0m\n\u001b[0;32m     23\u001b[0m \u001b[38;5;28;01mfor\u001b[39;00m x \u001b[38;5;129;01min\u001b[39;00m tekstas:\n\u001b[0;32m     24\u001b[0m     \u001b[38;5;28mself\u001b[39m\u001b[38;5;241m.\u001b[39mx\u001b[38;5;241m.\u001b[39mappend(\u001b[38;5;28mfloat\u001b[39m(x\u001b[38;5;241m.\u001b[39msplit(\u001b[38;5;28mself\u001b[39m\u001b[38;5;241m.\u001b[39mskirt)[\u001b[38;5;241m0\u001b[39m]))\n\u001b[1;32m---> 25\u001b[0m     \u001b[38;5;28mself\u001b[39m\u001b[38;5;241m.\u001b[39my\u001b[38;5;241m.\u001b[39mappend(\u001b[38;5;28mfloat\u001b[39m(\u001b[43my\u001b[49m\u001b[38;5;241m.\u001b[39msplit(\u001b[38;5;28mself\u001b[39m\u001b[38;5;241m.\u001b[39mskirt)[\u001b[38;5;241m1\u001b[39m]))\n\u001b[0;32m     26\u001b[0m     \u001b[38;5;28mself\u001b[39m\u001b[38;5;241m.\u001b[39mz\u001b[38;5;241m.\u001b[39mappend(\u001b[38;5;28mfloat\u001b[39m(z\u001b[38;5;241m.\u001b[39msplit(\u001b[38;5;28mself\u001b[39m\u001b[38;5;241m.\u001b[39mskirt)[\u001b[38;5;241m2\u001b[39m]))\n\u001b[0;32m     27\u001b[0m \u001b[38;5;28mprint\u001b[39m(\u001b[38;5;28mself\u001b[39m\u001b[38;5;241m.\u001b[39mx)\n",
      "\u001b[1;31mNameError\u001b[0m: name 'y' is not defined"
     ]
    }
   ],
   "source": [
    "#parašykite klasę TxtAnalyzer, kuriai kreipimosi metu galima būtų nurodyti failo pavadinimą ir stulpelių skirtuką.\n",
    "#klasė sukūrimo metu turi nuskaityti failą, stulpelius skaičių suskirstyti į sąrašus ir juos priskirti atributams X, Y ir Z.\n",
    "#Realizuokite metodus, kurie grąžintų X, Y, Z sąrašų vidurkius, minimalias ir maksimalias vertes.\n",
    "#  Pythone yra min, max, sum funkcijos;\n",
    "class TxtAnalyzer():\n",
    "    def __init__(self, pav, skirtukas):\n",
    "        self.pavadinimas = pav\n",
    "        self.skirt = skirtukas\n",
    "        self.x = []\n",
    "        self.y = []\n",
    "        self.z = []\n",
    "\n",
    "\n",
    "    def TxtReader(self):\n",
    "        fname = self.pavadinimas\n",
    "        f = open (fname, 'r', encoding='utf-8')\n",
    "\n",
    "        tekstas = f.readlines()\n",
    "        print(tekstas)\n",
    "\n",
    "        f.close()\n",
    "\n",
    "        for x in tekstas:\n",
    "            self.x.append(float(x.split(self.skirt)[0]))\n",
    "            self.y.append(float(y.split(self.skirt)[1]))\n",
    "            self.z.append(float(z.split(self.skirt)[2]))\n",
    "        print(self.x)\n",
    "        print(self.y)\n",
    "        print(self.z)\n",
    "\n",
    "def \n",
    "\n",
    "z = TxtAnalyzer('data0.txt', ';')\n",
    "z.TxtReader()"
   ]
  },
  {
   "cell_type": "code",
   "execution_count": 182,
   "metadata": {},
   "outputs": [
    {
     "name": "stdout",
     "output_type": "stream",
     "text": [
      "['52;0.3666;19.0616\\n', '11;0.8672;9.5391\\n', '55;0.9966;54.8137\\n', '55;0.7318;40.2481\\n', '47;0.6703;31.5026\\n', '71;0.2205;15.6522\\n', '49;0.4725;23.1545\\n', '48;0.5563;26.7004\\n', '82;0.5348;43.8516\\n', '24;0.3462;8.3078\\n', '13;0.784;10.1921\\n', '95;0.348;33.0584\\n', '22;0.8328;18.3206\\n', '95;0.5423;51.5156\\n', '32;0.3351;10.722\\n', '35;0.1916;6.7055\\n', '86;0.1262;10.8526\\n', '90;0.5941;53.47\\n', '8;0.914;7.3119\\n', '21;0.7839;16.4628\\n', '23;0.7763;17.8547\\n', '92;0.8757;80.5658\\n', '38;0.4502;17.1066\\n', '99;0.6906;68.37\\n', '29;0.8418;24.4108\\n', '93;0.1275;11.8609\\n', '53;0.1101;5.8339\\n', '87;0.3211;27.9361\\n', '47;0.5525;25.9672\\n', '38;0.5458;20.7417\\n', '38;0.8458;32.1402\\n', '36;0.6115;22.0154\\n', '83;0.5083;42.1888\\n', '79;0.7373;58.2501\\n', '2;0.9759;1.9518\\n', '18;0.7192;12.9463\\n', '86;0.0424;3.6446\\n', '78;0.4218;32.9034\\n', '51;0.8271;42.1807\\n', '7;0.796;5.5719\\n', '65;0.2074;13.4795\\n', '9;0.0712;0.6406\\n', '50;0.0602;3.0117\\n', '59;0.1218;7.1866\\n', '91;0.5095;46.3658\\n', '39;0.4785;18.662\\n', '36;0.9309;33.5135\\n', '16;0.9365;14.9834\\n', '73;0.918;67.0125\\n', '54;0.8063;43.5409\\n', '79;0.6445;50.9184\\n', '47;0.2458;11.5529\\n', '97;0.891;86.4277\\n', '0;0.447;0.0\\n', '18;0.4852;8.7331\\n', '54;0.2035;10.9905\\n', '93;0.8647;80.4135\\n', '79;0.0794;6.2735\\n', '62;0.8848;54.8547\\n', '63;0.632;39.8134\\n', '22;0.2339;5.146\\n', '49;0.5989;29.3444\\n', '19;0.3103;5.8948\\n', '43;0.6658;28.6315\\n', '65;0.2537;16.4886\\n', '0;0.141;0.0\\n', '80;0.034;2.7227\\n', '70;0.845;59.1502\\n', '95;0.2386;22.6687\\n', '58;0.9328;54.1016\\n', '47;0.8425;39.5996\\n', '89;0.4205;37.4252\\n', '99;0.6455;63.9074\\n', '94;0.4627;43.4957\\n', '70;0.3674;25.7203\\n', '41;0.0327;1.339\\n', '60;0.1313;7.8757\\n', '18;0.6409;11.5358\\n', '12;0.8725;10.4701\\n', '3;0.6112;1.8335\\n', '28;0.9838;27.5461\\n', '50;0.1139;5.6974\\n', '33;0.5738;18.9364\\n', '52;0.8379;43.5727\\n', '99;0.5597;55.4141\\n', '41;0.7883;32.3216\\n', '1;0.4241;0.4241\\n', '58;0.511;29.6396\\n', '60;0.876;52.5573\\n', '5;0.45;2.2501\\n', '3;0.0977;0.293\\n', '44;0.7697;33.8663\\n', '83;0.5361;44.4997\\n', '51;0.671;34.2191\\n', '58;0.8126;47.1291\\n', '27;0.0196;0.5292\\n', '71;0.8812;62.5665\\n', '96;0.1953;18.7448\\n', '18;0.9794;17.63\\n', '83;0.84;69.716']\n",
      "[52.0, 11.0, 55.0, 55.0, 47.0, 71.0, 49.0, 48.0, 82.0, 24.0, 13.0, 95.0, 22.0, 95.0, 32.0, 35.0, 86.0, 90.0, 8.0, 21.0, 23.0, 92.0, 38.0, 99.0, 29.0, 93.0, 53.0, 87.0, 47.0, 38.0, 38.0, 36.0, 83.0, 79.0, 2.0, 18.0, 86.0, 78.0, 51.0, 7.0, 65.0, 9.0, 50.0, 59.0, 91.0, 39.0, 36.0, 16.0, 73.0, 54.0, 79.0, 47.0, 97.0, 0.0, 18.0, 54.0, 93.0, 79.0, 62.0, 63.0, 22.0, 49.0, 19.0, 43.0, 65.0, 0.0, 80.0, 70.0, 95.0, 58.0, 47.0, 89.0, 99.0, 94.0, 70.0, 41.0, 60.0, 18.0, 12.0, 3.0, 28.0, 50.0, 33.0, 52.0, 99.0, 41.0, 1.0, 58.0, 60.0, 5.0, 3.0, 44.0, 83.0, 51.0, 58.0, 27.0, 71.0, 96.0, 18.0, 83.0]\n",
      "[0.3666, 0.8672, 0.9966, 0.7318, 0.6703, 0.2205, 0.4725, 0.5563, 0.5348, 0.3462, 0.784, 0.348, 0.8328, 0.5423, 0.3351, 0.1916, 0.1262, 0.5941, 0.914, 0.7839, 0.7763, 0.8757, 0.4502, 0.6906, 0.8418, 0.1275, 0.1101, 0.3211, 0.5525, 0.5458, 0.8458, 0.6115, 0.5083, 0.7373, 0.9759, 0.7192, 0.0424, 0.4218, 0.8271, 0.796, 0.2074, 0.0712, 0.0602, 0.1218, 0.5095, 0.4785, 0.9309, 0.9365, 0.918, 0.8063, 0.6445, 0.2458, 0.891, 0.447, 0.4852, 0.2035, 0.8647, 0.0794, 0.8848, 0.632, 0.2339, 0.5989, 0.3103, 0.6658, 0.2537, 0.141, 0.034, 0.845, 0.2386, 0.9328, 0.8425, 0.4205, 0.6455, 0.4627, 0.3674, 0.0327, 0.1313, 0.6409, 0.8725, 0.6112, 0.9838, 0.1139, 0.5738, 0.8379, 0.5597, 0.7883, 0.4241, 0.511, 0.876, 0.45, 0.0977, 0.7697, 0.5361, 0.671, 0.8126, 0.0196, 0.8812, 0.1953, 0.9794, 0.84]\n",
      "[19.0616, 9.5391, 54.8137, 40.2481, 31.5026, 15.6522, 23.1545, 26.7004, 43.8516, 8.3078, 10.1921, 33.0584, 18.3206, 51.5156, 10.722, 6.7055, 10.8526, 53.47, 7.3119, 16.4628, 17.8547, 80.5658, 17.1066, 68.37, 24.4108, 11.8609, 5.8339, 27.9361, 25.9672, 20.7417, 32.1402, 22.0154, 42.1888, 58.2501, 1.9518, 12.9463, 3.6446, 32.9034, 42.1807, 5.5719, 13.4795, 0.6406, 3.0117, 7.1866, 46.3658, 18.662, 33.5135, 14.9834, 67.0125, 43.5409, 50.9184, 11.5529, 86.4277, 0.0, 8.7331, 10.9905, 80.4135, 6.2735, 54.8547, 39.8134, 5.146, 29.3444, 5.8948, 28.6315, 16.4886, 0.0, 2.7227, 59.1502, 22.6687, 54.1016, 39.5996, 37.4252, 63.9074, 43.4957, 25.7203, 1.339, 7.8757, 11.5358, 10.4701, 1.8335, 27.5461, 5.6974, 18.9364, 43.5727, 55.4141, 32.3216, 0.4241, 29.6396, 52.5573, 2.2501, 0.293, 33.8663, 44.4997, 34.2191, 47.1291, 0.5292, 62.5665, 18.7448, 17.63, 69.716]\n",
      "(51.47, 0.546122, 27.091621)\n",
      "(0.0, 0.0196, 0.0)\n",
      "(99.0, 0.9966, 86.4277)\n"
     ]
    }
   ],
   "source": [
    "# Šarūno sprendimas\n",
    "\n",
    "#parašykite klasę TxtAnalyzer, kuriai kreipimosi metu galima būtų nurodyti failo pavadinimą ir stulpelių skirtuką.\n",
    "#klasė sukūrimo metu turi nuskaityti failą, stulpelius skaičių suskirstyti į sąrašus ir juos priskirti atributams X, Y ir Z.\n",
    "#Realizuokite metodus, kurie grąžintų X, Y, Z sąrašų vidurkius, minimalias ir maksimalias vertes.\n",
    "#  Pythone yra min, max, sum funkcijos;\n",
    "\n",
    "class TxtAnalyzer():\n",
    "    def __init__(self, pav, skirtukas):\n",
    "        self.pavadinimas = pav\n",
    "        self.skirt = skirtukas\n",
    "        self.x = []\n",
    "        self.y = []\n",
    "        self.z = []\n",
    "        pass\n",
    "    def TxtReader(self):\n",
    "        fname = self.pavadinimas\n",
    "        f = open(fname, mode='r', encoding='utf-8')\n",
    "        tekstas = f.readlines()\n",
    "        print(tekstas)\n",
    "        f.close()\n",
    "        for x in tekstas:\n",
    "            self.x.append(float(x.split(self.skirt)[0]))\n",
    "            self.y.append(float(x.split(self.skirt)[1]))\n",
    "            self.z.append(float(x.split(self.skirt)[2]))\n",
    "        print(self.x)\n",
    "        print(self.y)\n",
    "        print(self.z)\n",
    "\n",
    "    def getVidurkis(self):\n",
    "        vidurkisX = sum(self.x)/len(self.x)\n",
    "        vidurkisY = sum(self.y)/len(self.y)\n",
    "        vidurkisZ = sum(self.z)/len(self.z)\n",
    "        \n",
    "        return vidurkisX, vidurkisY, vidurkisZ\n",
    "    \n",
    "    def getMinimali(self):\n",
    "        minimaliX = min(self.x)\n",
    "        minimaliY = min(self.y)\n",
    "        minimaliZ = min(self.z)\n",
    "        return minimaliX, minimaliY, minimaliZ\n",
    "    \n",
    "    def getMax(self):\n",
    "        minimaliX = max(self.x)\n",
    "        minimaliY = max(self.y)\n",
    "        minimaliZ = max(self.z)\n",
    "        return minimaliX, minimaliY, minimaliZ\n",
    "\n",
    "\n",
    "z = TxtAnalyzer('data0.txt',';')\n",
    "z.TxtReader()\n",
    "print(z.getVidurkis())\n",
    "print(z.getMinimali())\n",
    "print(z.getMax())"
   ]
  },
  {
   "cell_type": "code",
   "execution_count": 183,
   "metadata": {},
   "outputs": [
    {
     "name": "stdout",
     "output_type": "stream",
     "text": [
      "X: \n",
      "Ave: 51.47\n",
      "Min: 0.0\n",
      "Max: 99.0\n",
      "\n",
      "Y: \n",
      "Ave: 0.546122\n",
      "Min: 0.0196\n",
      "Max: 0.9966\n",
      "\n",
      "Z: \n",
      "Ave: 27.091621\n",
      "Min: 0.0\n",
      "Max: 86.4277\n"
     ]
    }
   ],
   "source": [
    "# Mindaugo sprendimas\n",
    "\n",
    "#parašykite klasę TxtAnalyzer, kuriai kreipimosi metu galima būtų nurodyti failo pavadinimą ir stulpelių skirtuką.\n",
    "#klasė sukūrimo metu turi nuskaityti failą, stulpelius skaičių suskirstyti į sąrašus ir juos priskirti atributams X, Y ir Z.\n",
    "#Realizuokite metodus, kurie grąžintų X, Y, Z sąrašų vidurkius, minimalias ir maksimalias vertes.\n",
    "#  Pythone yra min, max, sum funkcijos;\n",
    "\n",
    "class TxtAnalyzer:\n",
    "    def __init__(self, fileName, dell=';'):\n",
    "        self.fileName = fileName\n",
    "        self.dell = dell\n",
    "        self.X, self.Y, self.Z = self.readFile()\n",
    "    def readFile(self):\n",
    "        X, Y, Z = [], [], []\n",
    "        try:\n",
    "             with open(self.fileName, 'r') as file:\n",
    "                for line in file:\n",
    "                    values = line.strip().split(self.dell)\n",
    "                    if len(values) == 3:\n",
    "                        X.append(float(values[0]))\n",
    "                        Y.append(float(values[1]))\n",
    "                        Z.append(float(values[2]))\n",
    "        except FileNotFoundError:\n",
    "            print(\"File not found!\")\n",
    "        return X, Y, Z\n",
    "    def Ave(self, data):\n",
    "        if data:\n",
    "            return sum(data)/len(data)\n",
    "        else:\n",
    "            return None\n",
    "    def Min(self, data):\n",
    "        if data:\n",
    "            return min(data)\n",
    "        else:\n",
    "            return None\n",
    "    def Max(self, data):\n",
    "        if data:\n",
    "            return max(data)\n",
    "        else:\n",
    "            return None\n",
    "fileName = \"data0.txt\"  \n",
    "analyzer = TxtAnalyzer(fileName)\n",
    "print(\"X: \")\n",
    "print(\"Ave:\", analyzer.Ave(analyzer.X))\n",
    "print(\"Min:\", analyzer.Min(analyzer.X))\n",
    "print(\"Max:\", analyzer.Max(analyzer.X))\n",
    "print(\"\\nY: \")\n",
    "print(\"Ave:\", analyzer.Ave(analyzer.Y))\n",
    "print(\"Min:\", analyzer.Min(analyzer.Y))\n",
    "print(\"Max:\", analyzer.Max(analyzer.Y))\n",
    "print(\"\\nZ: \")\n",
    "print(\"Ave:\", analyzer.Ave(analyzer.Z))\n",
    "print(\"Min:\", analyzer.Min(analyzer.Z))\n",
    "print(\"Max:\", analyzer.Max(analyzer.Z))"
   ]
  }
 ],
 "metadata": {
  "kernelspec": {
   "display_name": "Python 3",
   "language": "python",
   "name": "python3"
  },
  "language_info": {
   "codemirror_mode": {
    "name": "ipython",
    "version": 3
   },
   "file_extension": ".py",
   "mimetype": "text/x-python",
   "name": "python",
   "nbconvert_exporter": "python",
   "pygments_lexer": "ipython3",
   "version": "3.12.2"
  }
 },
 "nbformat": 4,
 "nbformat_minor": 2
}
