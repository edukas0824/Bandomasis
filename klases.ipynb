{
 "cells": [
  {
   "cell_type": "code",
   "execution_count": 1,
   "metadata": {},
   "outputs": [
    {
     "name": "stdout",
     "output_type": "stream",
     "text": [
      "Testas\n"
     ]
    }
   ],
   "source": [
    "print(\"Testas\")"
   ]
  },
  {
   "cell_type": "code",
   "execution_count": 3,
   "metadata": {},
   "outputs": [
    {
     "name": "stdout",
     "output_type": "stream",
     "text": [
      "<class 'str'>\n",
      "<class 'int'>\n",
      "<class 'list'>\n"
     ]
    }
   ],
   "source": [
    "# klasės\n",
    "s = 'tekstas'\n",
    "sk = 7\n",
    "sar = []\n",
    "print(type(s), type (sk), type(sar), sep='\\n')\n",
    "s.upper()\n"
   ]
  },
  {
   "cell_type": "code",
   "execution_count": 68,
   "metadata": {},
   "outputs": [],
   "source": [
    "Name = \"Petriukas\"\n",
    "class Asmuo():\n",
    "    def __init__(self, name):\n",
    "        self.Name = name # klasės atributas (tiesiog kintamasis esantis klasės viduje)\n",
    "        pass\n",
    "    def getName(self):\n",
    "        return self.Name\n",
    "    def setName(self, new_name):\n",
    "        self.Name = new_name "
   ]
  },
  {
   "cell_type": "code",
   "execution_count": 69,
   "metadata": {},
   "outputs": [
    {
     "name": "stdout",
     "output_type": "stream",
     "text": [
      "<class '__main__.Asmuo'>\n",
      "<class '__main__.Asmuo'>\n"
     ]
    }
   ],
   "source": [
    "a1 = Asmuo('Jonukas')\n",
    "a2 = Asmuo('Petriukas')\n",
    "\n",
    "print(type(a1), type(a2), sep='\\n')"
   ]
  },
  {
   "cell_type": "code",
   "execution_count": 70,
   "metadata": {},
   "outputs": [
    {
     "name": "stdout",
     "output_type": "stream",
     "text": [
      "Jonukas\n",
      "Vardenis\n"
     ]
    }
   ],
   "source": [
    "print (a1.getName())\n",
    "a1.setName('Vardenis')\n",
    "print(a1.getName())"
   ]
  },
  {
   "cell_type": "code",
   "execution_count": 62,
   "metadata": {},
   "outputs": [],
   "source": [
    "a1.Name = 'Marytė'"
   ]
  },
  {
   "cell_type": "code",
   "execution_count": 63,
   "metadata": {},
   "outputs": [
    {
     "name": "stdout",
     "output_type": "stream",
     "text": [
      "Marytė\n"
     ]
    }
   ],
   "source": [
    "ats = a1.getName()\n",
    "print(ats)"
   ]
  },
  {
   "cell_type": "code",
   "execution_count": 47,
   "metadata": {},
   "outputs": [
    {
     "name": "stdout",
     "output_type": "stream",
     "text": [
      "Jonukas\n"
     ]
    }
   ],
   "source": [
    "a1.printName()"
   ]
  },
  {
   "cell_type": "code",
   "execution_count": 43,
   "metadata": {},
   "outputs": [
    {
     "name": "stdout",
     "output_type": "stream",
     "text": [
      "Petriukas\n"
     ]
    }
   ],
   "source": [
    "a2.printName()"
   ]
  },
  {
   "cell_type": "code",
   "execution_count": 42,
   "metadata": {},
   "outputs": [
    {
     "name": "stdout",
     "output_type": "stream",
     "text": [
      "Onutė\n"
     ]
    }
   ],
   "source": [
    "a3.printName()"
   ]
  },
  {
   "cell_type": "code",
   "execution_count": 94,
   "metadata": {},
   "outputs": [],
   "source": [
    "def calculateAge():\n",
    "    return \"cha!!!\"\n",
    "\n",
    "\n",
    "class Asmuo():\n",
    "    def __init__(self, name, gm):\n",
    "        self.Name = name # klasės atributas (tiesiog kintamasis esantis klasės viduje)\n",
    "        self.BYear = gm\n",
    "        self.Age = self.calculateAge() # kaip kreiptis į metodą iš kito metodo\n",
    "        pass\n",
    "    def getName(self):\n",
    "        return self.Name\n",
    "    def setName(self, new_name):\n",
    "        self.Name = new_name\n",
    "    def calculateAge(self):\n",
    "        return 2024-self.BYear"
   ]
  },
  {
   "cell_type": "code",
   "execution_count": 95,
   "metadata": {},
   "outputs": [
    {
     "name": "stdout",
     "output_type": "stream",
     "text": [
      "28 Vardenis\n"
     ]
    }
   ],
   "source": [
    "a1 = Asmuo ('Vardenis', 1996)\n",
    "print(a1.Age, a1.getName())"
   ]
  },
  {
   "cell_type": "code",
   "execution_count": 96,
   "metadata": {},
   "outputs": [],
   "source": [
    "# paveldėjimas\n",
    "\n",
    "class Studentas(Asmuo):\n",
    "    def getStatus(self):\n",
    "        return \"studentas\"\n",
    "\n"
   ]
  },
  {
   "cell_type": "code",
   "execution_count": 97,
   "metadata": {},
   "outputs": [],
   "source": [
    "std1 = Studentas('Ugnė', 1992)"
   ]
  },
  {
   "cell_type": "code",
   "execution_count": 98,
   "metadata": {},
   "outputs": [
    {
     "name": "stdout",
     "output_type": "stream",
     "text": [
      "32 Ugnė\n"
     ]
    }
   ],
   "source": [
    "print(std1.Age, std1.getName())"
   ]
  },
  {
   "cell_type": "code",
   "execution_count": 99,
   "metadata": {},
   "outputs": [
    {
     "data": {
      "text/plain": [
       "'studentas'"
      ]
     },
     "execution_count": 99,
     "metadata": {},
     "output_type": "execute_result"
    }
   ],
   "source": [
    "std1.getStatus()"
   ]
  },
  {
   "cell_type": "code",
   "execution_count": 107,
   "metadata": {},
   "outputs": [],
   "source": [
    "# sudėtingesnis paveldėjimo atvejis\n",
    "\n",
    "class Studentas(Asmuo):\n",
    "    def __init__(self, name, gm):\n",
    "        super().__init__(name, gm)\n",
    "        self.Enroll = True\n",
    "std1 = Studentas('Ugnė', 1996)"
   ]
  },
  {
   "cell_type": "code",
   "execution_count": 108,
   "metadata": {},
   "outputs": [
    {
     "name": "stdout",
     "output_type": "stream",
     "text": [
      "28 True\n"
     ]
    }
   ],
   "source": [
    "print(std1.Age, std1.Enroll)"
   ]
  },
  {
   "cell_type": "code",
   "execution_count": null,
   "metadata": {},
   "outputs": [],
   "source": [
    "# aprašykite klasę Kvadratas\n",
    "# kreipiantis į klasę, reikia nurodyti kvadrato ilgį a\n",
    "# Klasė turi turėti atributiką Plotas, kurį turi\n",
    "# apslaičiuoti klasės kūrimo metu\n",
    "# Plotas = a*a\n",
    "# Parašykite metodą, kuris grąžintų apskaičiuoto Plotas atributo reikšmę"
   ]
  },
  {
   "cell_type": "code",
   "execution_count": 139,
   "metadata": {},
   "outputs": [
    {
     "name": "stdout",
     "output_type": "stream",
     "text": [
      "49\n",
      "28\n"
     ]
    }
   ],
   "source": [
    "class Kvadratas():\n",
    "    def __init__(self, a):\n",
    "        self.a = a\n",
    "        self.Plotas = a * a\n",
    "        self.Perimetras =4*a\n",
    "    \n",
    "    def getPerimetras(self):\n",
    "        return self.Perimetras\n",
    "    \n",
    "    def getPlotas(self):\n",
    "        return self.Plotas\n",
    "\n",
    "kint = Kvadratas(a=7)\n",
    "\n",
    "print(kint.getPlotas())\n",
    "print(kint.getPerimetras())"
   ]
  },
  {
   "cell_type": "code",
   "execution_count": 145,
   "metadata": {},
   "outputs": [
    {
     "name": "stdout",
     "output_type": "stream",
     "text": [
      "56\n",
      "30\n"
     ]
    }
   ],
   "source": [
    "# aprašykite klasę Rectangle\n",
    "# kreipiantis į klasę, reikia nurodyti stačiakampio\n",
    "# kraštines a ir b.\n",
    "# Realizuokite atributą Plotas = a*b\n",
    "# ir metodą, grąžinantį Ploto reikšmę\n",
    "# Taip pat pridėkite metodą, apskaičiuojantį ir grąžinantį\n",
    "# perimetrą P=2(a+b)\n",
    "class Rectangle():\n",
    "    def __init__(self, a, b):\n",
    "        self.a = a\n",
    "        self.b = b\n",
    "        self.Plotas = a * b\n",
    "        self.Perimetras = 2* (a+b)\n",
    "       \n",
    "    def getPlotas(self):\n",
    "        return self.Plotas\n",
    "\n",
    "    def getPerimetras(self):\n",
    "        return self.Perimetras\n",
    "    \n",
    "sk  = Rectangle(7, 8)\n",
    "print(sk.getPlotas())\n",
    "print(sk.getPerimetras())\n",
    "\n"
   ]
  },
  {
   "cell_type": "code",
   "execution_count": 147,
   "metadata": {},
   "outputs": [
    {
     "name": "stdout",
     "output_type": "stream",
     "text": [
      "24\n"
     ]
    }
   ],
   "source": [
    "class Kubas():\n",
    "    def __init__(self, a, b, c):\n",
    "        self.a = a\n",
    "        self.b = b\n",
    "        self.c = c\n",
    "        self.Tūris = a*b*c\n",
    "\n",
    "    # def getPlotas(self):\n",
    "    #     return self.Plotas\n",
    "\n",
    "    # def getPerimetras(self):\n",
    "    #     return self.Perimetras\n",
    "    \n",
    "    def getTūris(self):\n",
    "        return self.Tūris\n",
    "\n",
    "\n",
    "t = Kubas(2, 3, 4)\n",
    "print(t.getTūris())"
   ]
  },
  {
   "cell_type": "code",
   "execution_count": 152,
   "metadata": {},
   "outputs": [
    {
     "name": "stdout",
     "output_type": "stream",
     "text": [
      "Šiandien yra pirmadienis!\n"
     ]
    }
   ],
   "source": [
    "#susikurkite su Notepadu tekstinį failą su bet kokiu tekstu\n",
    "#parašykite klasę TxtReader, kuriai kreipimosimetu būtų nurodomas tekstinio failo pavadinimas;\n",
    "#klasės sukūrimo metu tas tekstinis failas turi būti nuskaitomas\n",
    "#ir nuskaitytas tekstas turi būti priskirtas atributui Text\n",
    "#parašykite metodą getText(), kuri grąžintų atributo text reikšmę\n",
    "class TxtReader():\n",
    "    def __init__ (self, tekstas):\n",
    "        self.tekstas = tekstas\n",
    "        self.Text = self.nuskaityti_teksta()\n",
    "    \n",
    "    def nuskaityti_teksta(self):\n",
    "        with open(self.tekstas, 'r', encoding='utf-8') as failas:\n",
    "            return failas.read()\n",
    "    \n",
    "    def getText(self):\n",
    "        return self.Text\n",
    "t = TxtReader('tekstas.txt')\n",
    "print(t.getText())\n",
    "\n"
   ]
  },
  {
   "cell_type": "code",
   "execution_count": 155,
   "metadata": {},
   "outputs": [
    {
     "name": "stdout",
     "output_type": "stream",
     "text": [
      "Šiandien yra pirmadienis!\n"
     ]
    }
   ],
   "source": [
    "class TxtReader():\n",
    "    def __init__ (self, tekstas):\n",
    "        self.tekstas = tekstas\n",
    "        file_r = open (self.tekstas, 'r', encoding='utf-8')\n",
    "        self.Text = file_r.read()\n",
    "        file_r.close()\n",
    "\n",
    "    def getText(self):\n",
    "        return self.Text\n",
    "t = TxtReader('tekstas.txt')\n",
    "print(t.getText())"
   ]
  },
  {
   "cell_type": "code",
   "execution_count": 165,
   "metadata": {},
   "outputs": [
    {
     "name": "stdout",
     "output_type": "stream",
     "text": [
      "1256.0\n",
      "4186.666666666667\n",
      "1808.64\n",
      "7234.5599999999995\n"
     ]
    }
   ],
   "source": [
    "#Sukurkite klasę Rutulys\n",
    "#kuriai galėtumėte nurodyti Rutulio spindulį r.\n",
    "#Sukurkite metodus, skirtus rasti jo Tūriui ir paviršiaus plotui;\n",
    "#Taip pat metodą, kuriuo jūs pakeistumėte spindulio r reikšmę.\n",
    "class Rutulys():\n",
    "    def __init__ (self, r):\n",
    "        self.r = r\n",
    "           \n",
    "    def getPav_Plotas(self):\n",
    "        Pav_Plotas = 4*3.14*self.r**2\n",
    "        return Pav_Plotas\n",
    "\n",
    "    def getTūris(self):\n",
    "        Tūris = 4/3*3.14*self.r**3\n",
    "        return Tūris\n",
    "    \n",
    "    def changer(self, new_r):\n",
    "        self.r = new_r\n",
    "        \n",
    "r = int(input(\"Įveskite spindulį r\"))\n",
    "    \n",
    "rutulys  = Rutulys(r)\n",
    "print(rutulys.getPav_Plotas())\n",
    "print(rutulys.getTūris())\n",
    "\n",
    "r = int(input(\"Įveskite spindulį r\"))\n",
    "rutulys.changer(r)\n",
    "\n",
    "print(rutulys.getPav_Plotas())\n",
    "print(rutulys.getTūris())"
   ]
  },
  {
   "cell_type": "code",
   "execution_count": null,
   "metadata": {},
   "outputs": [],
   "source": [
    "#užduotis su paveldjimu:\n",
    "#parašykite klasę Rectangle, kurioje būtų ilgio ir pločio atributai, bei du metodai - getS - plotui ir getP -erimetrui rasti\n",
    "#Sukurkite išvestinę (child) klasę Kubas, kuri papildomai turėtų Tūrio skaičiavimo metodą\n",
    "#• Klasę Piramidė - išvestinė klasė (child class). Pridėkite\n",
    "# papildomą funkcionalumą - metodą, argumentus piramidės\n",
    "# tūrio skaičiavimui."
   ]
  },
  {
   "cell_type": "code",
   "execution_count": null,
   "metadata": {},
   "outputs": [],
   "source": [
    "#parašykite klasę TxtAnalyzer, kuriai kreipimosi metu galima būtų nurodyti failo pavadinimą ir stulpelių skirtuką.\n",
    "#klasė sukūrimo metu turi nuskaityti failą, stulpelius skaičių suskirstyti į sąrašus ir juos priskirti atributams X, Y ir Z.\n",
    "#Realizuokite metodus, kurie grąžintų X, Y, Z sąrašų vidurkius, minimalias ir maksimalias vertes. Pythone yra min, max, sum funkcijos;\n",
    "class TxtAnalyzer():\n",
    "    def __init__(self, f_name, stulp_skirt):\n",
    "        self.X = X\n",
    "        self.Y = Y\n",
    "        self.Z = Z\n",
    "        file_r = open (self.tekstas, 'r', encoding='utf-8')\n",
    "        self.Text = file_r.read()\n",
    "        file_r.close()\n",
    "\n"
   ]
  }
 ],
 "metadata": {
  "kernelspec": {
   "display_name": "Python 3",
   "language": "python",
   "name": "python3"
  },
  "language_info": {
   "codemirror_mode": {
    "name": "ipython",
    "version": 3
   },
   "file_extension": ".py",
   "mimetype": "text/x-python",
   "name": "python",
   "nbconvert_exporter": "python",
   "pygments_lexer": "ipython3",
   "version": "3.12.2"
  }
 },
 "nbformat": 4,
 "nbformat_minor": 2
}
