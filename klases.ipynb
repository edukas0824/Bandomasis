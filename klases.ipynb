{
 "cells": [
  {
   "cell_type": "code",
   "execution_count": 1,
   "metadata": {},
   "outputs": [
    {
     "name": "stdout",
     "output_type": "stream",
     "text": [
      "Testas\n"
     ]
    }
   ],
   "source": [
    "print(\"Testas\")"
   ]
  },
  {
   "cell_type": "code",
   "execution_count": 3,
   "metadata": {},
   "outputs": [
    {
     "name": "stdout",
     "output_type": "stream",
     "text": [
      "<class 'str'>\n",
      "<class 'int'>\n",
      "<class 'list'>\n"
     ]
    }
   ],
   "source": [
    "# klasės\n",
    "s = 'tekstas'\n",
    "sk = 7\n",
    "sar = []\n",
    "print(type(s), type (sk), type(sar), sep='\\n')\n",
    "s.upper()\n"
   ]
  },
  {
   "cell_type": "code",
   "execution_count": 68,
   "metadata": {},
   "outputs": [],
   "source": [
    "Name = \"Petriukas\"\n",
    "class Asmuo():\n",
    "    def __init__(self, name):\n",
    "        self.Name = name # klasės atributas (tiesiog kintamasis esantis klasės viduje)\n",
    "        pass\n",
    "    def getName(self):\n",
    "        return self.Name\n",
    "    def setName(self, new_name):\n",
    "        self.Name = new_name "
   ]
  },
  {
   "cell_type": "code",
   "execution_count": 69,
   "metadata": {},
   "outputs": [
    {
     "name": "stdout",
     "output_type": "stream",
     "text": [
      "<class '__main__.Asmuo'>\n",
      "<class '__main__.Asmuo'>\n"
     ]
    }
   ],
   "source": [
    "a1 = Asmuo('Jonukas')\n",
    "a2 = Asmuo('Petriukas')\n",
    "\n",
    "print(type(a1), type(a2), sep='\\n')"
   ]
  },
  {
   "cell_type": "code",
   "execution_count": 70,
   "metadata": {},
   "outputs": [
    {
     "name": "stdout",
     "output_type": "stream",
     "text": [
      "Jonukas\n",
      "Vardenis\n"
     ]
    }
   ],
   "source": [
    "print (a1.getName())\n",
    "a1.setName('Vardenis')\n",
    "print(a1.getName())"
   ]
  },
  {
   "cell_type": "code",
   "execution_count": null,
   "metadata": {},
   "outputs": [],
   "source": [
    "class Asmuo():\n",
    "    def __init__(self, name):\n",
    "        self.Name = name # klasės atributas (tiesiog kintamasis esantis klasės viduje)\n",
    "        pass\n",
    "    def getName(self):\n",
    "        return self.Name\n",
    "    def setName(self, new_name):\n",
    "        self.Name = new_name"
   ]
  },
  {
   "cell_type": "code",
   "execution_count": 62,
   "metadata": {},
   "outputs": [],
   "source": [
    "a1.Name = 'Marytė'"
   ]
  },
  {
   "cell_type": "code",
   "execution_count": 63,
   "metadata": {},
   "outputs": [
    {
     "name": "stdout",
     "output_type": "stream",
     "text": [
      "Marytė\n"
     ]
    }
   ],
   "source": [
    "ats = a1.getName()\n",
    "print(ats)"
   ]
  },
  {
   "cell_type": "code",
   "execution_count": 47,
   "metadata": {},
   "outputs": [
    {
     "name": "stdout",
     "output_type": "stream",
     "text": [
      "Jonukas\n"
     ]
    }
   ],
   "source": [
    "a1.printName()"
   ]
  },
  {
   "cell_type": "code",
   "execution_count": 43,
   "metadata": {},
   "outputs": [
    {
     "name": "stdout",
     "output_type": "stream",
     "text": [
      "Petriukas\n"
     ]
    }
   ],
   "source": [
    "a2.printName()"
   ]
  },
  {
   "cell_type": "code",
   "execution_count": 42,
   "metadata": {},
   "outputs": [
    {
     "name": "stdout",
     "output_type": "stream",
     "text": [
      "Onutė\n"
     ]
    }
   ],
   "source": [
    "a3.printName()"
   ]
  }
 ],
 "metadata": {
  "kernelspec": {
   "display_name": "Python 3",
   "language": "python",
   "name": "python3"
  },
  "language_info": {
   "codemirror_mode": {
    "name": "ipython",
    "version": 3
   },
   "file_extension": ".py",
   "mimetype": "text/x-python",
   "name": "python",
   "nbconvert_exporter": "python",
   "pygments_lexer": "ipython3",
   "version": "3.12.2"
  }
 },
 "nbformat": 4,
 "nbformat_minor": 2
}
